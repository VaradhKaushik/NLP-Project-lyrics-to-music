{
 "cells": [
  {
   "cell_type": "code",
   "execution_count": 2,
   "metadata": {},
   "outputs": [
    {
     "name": "stderr",
     "output_type": "stream",
     "text": [
      "/home/varadh/anaconda3/envs/ac/lib/python3.9/site-packages/tqdm/auto.py:21: TqdmWarning: IProgress not found. Please update jupyter and ipywidgets. See https://ipywidgets.readthedocs.io/en/stable/user_install.html\n",
      "  from .autonotebook import tqdm as notebook_tqdm\n"
     ]
    }
   ],
   "source": [
    "import torch\n",
    "import pandas as pd\n",
    "import soundfile as sf\n",
    "import random\n",
    "from transformers import AutoTokenizer, AutoModelForTextToWaveform\n"
   ]
  },
  {
   "cell_type": "code",
   "execution_count": 3,
   "metadata": {},
   "outputs": [
    {
     "name": "stdout",
     "output_type": "stream",
     "text": [
      "[\"All Saints's song 'Under the Bridge' has a positive tone and includes themes like ever wanna feel like, ever wanna feel like, ever wanna feel like and belongs to genres such as dance pop, europop with a tempo of around 85.996 BPM. The lyrics often reflect topics such as love like know say wanna\", \"Bach Johann Sebastian's song 'Fugue in G' has a negative tone and includes themes like baroque wig two times every year zamp sends, bit slower piano pianissimo pianissimo staccato, staccato arpegiatto fumante calzone graziosso and belongs to genres such as baroque, classical with a tempo of around 127.469 BPM. The lyrics often reflect topics such as sex da la che de\", \"Battisti's song 'Il vento' has a neutral tone and belongs to genres such as canzone d'autore, classic italian pop with a tempo of around 122.53 BPM. The lyrics often reflect topics such as love like know say wanna\", \"Bjork's song 'Human Behaviour' has a positive tone and includes themes like logic human human human human43embed, human human behaviour human behaviour, sudden turn happy and belongs to genres such as art pop, electronica with a tempo of around 109.454 BPM. The lyrics often reflect topics such as get got call face back\", \"Brassens Georges's song 'Je rejoindrai ma belle' has a neutral tone and belongs to genres such as chanson, french rock with a tempo of around 125.29 BPM. The lyrics often reflect topics such as love like know say wanna\", \"Barry John's song 'Main Title Looks Like a Suicide' has a neutral tone and belongs to genres such as british soundtrack, classic soundtrack with a tempo of around 119.37 BPM. The lyrics often reflect topics such as love like know say wanna\", \"Bach Johann Sebastian's song 'Musette BWV Anh.126' has a neutral tone and belongs to genres such as baroque, classical with a tempo of around 170.949 BPM. The lyrics often reflect topics such as love like know say wanna\", \"Alabama's song 'High Cotton' has a positive tone and includes themes like kept us fed taught us, sunday mornings rolled around, high cotton old times and belongs to genres such as contemporary country, country with a tempo of around 91.11 BPM. The lyrics often reflect topics such as little one day fire every\", \"Barbra Streisand's song 'What Kind of Fool' has a neutral tone and belongs to genres such as adult standards, operatic pop with a tempo of around 79.88 BPM. The lyrics often reflect topics such as love like know say wanna\", \"2 Brothers on the 4th Floor's song 'Come Take My Hand' has a neutral tone and belongs to genres such as eurodance, hip house with a tempo of around 154.872 BPM. The lyrics often reflect topics such as love like know say wanna\"]\n"
     ]
    }
   ],
   "source": [
    "# Load CSV data from a file\n",
    "df = pd.read_csv('../NLP Project/processed_lyrics_sentiment_keywords.csv')\n",
    "\n",
    "# Shuffle and select the first 10 records\n",
    "df = df.sample(n=10, random_state=14)\n",
    "\n",
    "# Extract the 'prompt' field\n",
    "prompts = df['prompt'].tolist()\n",
    "\n",
    "print(prompts)\n"
   ]
  },
  {
   "cell_type": "code",
   "execution_count": 4,
   "metadata": {},
   "outputs": [
    {
     "data": {
      "text/html": [
       "<div>\n",
       "<style scoped>\n",
       "    .dataframe tbody tr th:only-of-type {\n",
       "        vertical-align: middle;\n",
       "    }\n",
       "\n",
       "    .dataframe tbody tr th {\n",
       "        vertical-align: top;\n",
       "    }\n",
       "\n",
       "    .dataframe thead th {\n",
       "        text-align: right;\n",
       "    }\n",
       "</style>\n",
       "<table border=\"1\" class=\"dataframe\">\n",
       "  <thead>\n",
       "    <tr style=\"text-align: right;\">\n",
       "      <th></th>\n",
       "      <th>midi_file_path</th>\n",
       "      <th>artist_name</th>\n",
       "      <th>song_title</th>\n",
       "      <th>sentiment</th>\n",
       "      <th>keywords</th>\n",
       "      <th>spotify_metadata</th>\n",
       "      <th>topics</th>\n",
       "      <th>prompt</th>\n",
       "    </tr>\n",
       "  </thead>\n",
       "  <tbody>\n",
       "    <tr>\n",
       "      <th>419</th>\n",
       "      <td>archive-new\\All_Saints\\Under_the_Bridge.mid</td>\n",
       "      <td>All Saints</td>\n",
       "      <td>Under the Bridge</td>\n",
       "      <td>0.250178</td>\n",
       "      <td>['ever wanna feel like', 'ever wanna feel like...</td>\n",
       "      <td>{'energy': 0.564, 'acousticness': 0.0452, 'dan...</td>\n",
       "      <td>love like know say wanna</td>\n",
       "      <td>All Saints's song 'Under the Bridge' has a pos...</td>\n",
       "    </tr>\n",
       "    <tr>\n",
       "      <th>757</th>\n",
       "      <td>archive-new\\Bach_Johann_Sebastian\\Fugue_in_G.mid</td>\n",
       "      <td>Bach Johann Sebastian</td>\n",
       "      <td>Fugue in G</td>\n",
       "      <td>-0.022662</td>\n",
       "      <td>['baroque wig two times every year zamp sends'...</td>\n",
       "      <td>{'energy': 0.137, 'acousticness': 0.99, 'dance...</td>\n",
       "      <td>sex da la che de</td>\n",
       "      <td>Bach Johann Sebastian's song 'Fugue in G' has ...</td>\n",
       "    </tr>\n",
       "    <tr>\n",
       "      <th>975</th>\n",
       "      <td>archive-new\\Battisti\\Il_vento.mid</td>\n",
       "      <td>Battisti</td>\n",
       "      <td>Il vento</td>\n",
       "      <td>0.000000</td>\n",
       "      <td>[]</td>\n",
       "      <td>{'energy': 0.384, 'acousticness': 0.741, 'danc...</td>\n",
       "      <td>love like know say wanna</td>\n",
       "      <td>Battisti's song 'Il vento' has a neutral tone ...</td>\n",
       "    </tr>\n",
       "    <tr>\n",
       "      <th>1317</th>\n",
       "      <td>archive-new\\Bjork\\Human_Behaviour.mid</td>\n",
       "      <td>Bjork</td>\n",
       "      <td>Human Behaviour</td>\n",
       "      <td>0.006667</td>\n",
       "      <td>['logic human human human human43embed', 'huma...</td>\n",
       "      <td>{'energy': 0.65, 'acousticness': 0.0396, 'danc...</td>\n",
       "      <td>get got call face back</td>\n",
       "      <td>Bjork's song 'Human Behaviour' has a positive ...</td>\n",
       "    </tr>\n",
       "    <tr>\n",
       "      <th>1635</th>\n",
       "      <td>archive-new\\Brassens_Georges\\Je_rejoindrai_ma_...</td>\n",
       "      <td>Brassens Georges</td>\n",
       "      <td>Je rejoindrai ma belle</td>\n",
       "      <td>0.000000</td>\n",
       "      <td>[]</td>\n",
       "      <td>{'energy': 0.295, 'acousticness': 0.854, 'danc...</td>\n",
       "      <td>love like know say wanna</td>\n",
       "      <td>Brassens Georges's song 'Je rejoindrai ma bell...</td>\n",
       "    </tr>\n",
       "    <tr>\n",
       "      <th>871</th>\n",
       "      <td>archive-new\\Barry_John\\Main_Title_Looks_Like_a...</td>\n",
       "      <td>Barry John</td>\n",
       "      <td>Main Title Looks Like a Suicide</td>\n",
       "      <td>0.000000</td>\n",
       "      <td>[]</td>\n",
       "      <td>{'energy': 0.0709, 'acousticness': 0.839, 'dan...</td>\n",
       "      <td>love like know say wanna</td>\n",
       "      <td>Barry John's song 'Main Title Looks Like a Sui...</td>\n",
       "    </tr>\n",
       "    <tr>\n",
       "      <th>770</th>\n",
       "      <td>archive-new\\Bach_Johann_Sebastian\\Musette_BWV_...</td>\n",
       "      <td>Bach Johann Sebastian</td>\n",
       "      <td>Musette BWV Anh.126</td>\n",
       "      <td>0.000000</td>\n",
       "      <td>[]</td>\n",
       "      <td>{'energy': 0.262, 'acousticness': 0.949, 'danc...</td>\n",
       "      <td>love like know say wanna</td>\n",
       "      <td>Bach Johann Sebastian's song 'Musette BWV Anh....</td>\n",
       "    </tr>\n",
       "    <tr>\n",
       "      <th>259</th>\n",
       "      <td>archive-new\\Alabama\\High_Cotton.mid</td>\n",
       "      <td>Alabama</td>\n",
       "      <td>High Cotton</td>\n",
       "      <td>0.109355</td>\n",
       "      <td>['kept us fed taught us', 'sunday mornings rol...</td>\n",
       "      <td>{'energy': 0.581, 'acousticness': 0.423, 'danc...</td>\n",
       "      <td>little one day fire every</td>\n",
       "      <td>Alabama's song 'High Cotton' has a positive to...</td>\n",
       "    </tr>\n",
       "    <tr>\n",
       "      <th>857</th>\n",
       "      <td>archive-new\\Barbra_Streisand\\What_Kind_of_Fool...</td>\n",
       "      <td>Barbra Streisand</td>\n",
       "      <td>What Kind of Fool</td>\n",
       "      <td>0.000000</td>\n",
       "      <td>[]</td>\n",
       "      <td>{'energy': 0.245, 'acousticness': 0.39, 'dance...</td>\n",
       "      <td>love like know say wanna</td>\n",
       "      <td>Barbra Streisand's song 'What Kind of Fool' ha...</td>\n",
       "    </tr>\n",
       "    <tr>\n",
       "      <th>13</th>\n",
       "      <td>archive-new\\2_Brothers_on_the_4th_Floor\\Come_T...</td>\n",
       "      <td>2 Brothers on the 4th Floor</td>\n",
       "      <td>Come Take My Hand</td>\n",
       "      <td>0.000000</td>\n",
       "      <td>[]</td>\n",
       "      <td>{'energy': 0.928, 'acousticness': 0.0068, 'dan...</td>\n",
       "      <td>love like know say wanna</td>\n",
       "      <td>2 Brothers on the 4th Floor's song 'Come Take ...</td>\n",
       "    </tr>\n",
       "  </tbody>\n",
       "</table>\n",
       "</div>"
      ],
      "text/plain": [
       "                                         midi_file_path  \\\n",
       "419         archive-new\\All_Saints\\Under_the_Bridge.mid   \n",
       "757    archive-new\\Bach_Johann_Sebastian\\Fugue_in_G.mid   \n",
       "975                   archive-new\\Battisti\\Il_vento.mid   \n",
       "1317              archive-new\\Bjork\\Human_Behaviour.mid   \n",
       "1635  archive-new\\Brassens_Georges\\Je_rejoindrai_ma_...   \n",
       "871   archive-new\\Barry_John\\Main_Title_Looks_Like_a...   \n",
       "770   archive-new\\Bach_Johann_Sebastian\\Musette_BWV_...   \n",
       "259                 archive-new\\Alabama\\High_Cotton.mid   \n",
       "857   archive-new\\Barbra_Streisand\\What_Kind_of_Fool...   \n",
       "13    archive-new\\2_Brothers_on_the_4th_Floor\\Come_T...   \n",
       "\n",
       "                      artist_name                       song_title  sentiment  \\\n",
       "419                    All Saints                 Under the Bridge   0.250178   \n",
       "757         Bach Johann Sebastian                       Fugue in G  -0.022662   \n",
       "975                      Battisti                         Il vento   0.000000   \n",
       "1317                        Bjork                  Human Behaviour   0.006667   \n",
       "1635             Brassens Georges           Je rejoindrai ma belle   0.000000   \n",
       "871                    Barry John  Main Title Looks Like a Suicide   0.000000   \n",
       "770         Bach Johann Sebastian              Musette BWV Anh.126   0.000000   \n",
       "259                       Alabama                      High Cotton   0.109355   \n",
       "857              Barbra Streisand                What Kind of Fool   0.000000   \n",
       "13    2 Brothers on the 4th Floor                Come Take My Hand   0.000000   \n",
       "\n",
       "                                               keywords  \\\n",
       "419   ['ever wanna feel like', 'ever wanna feel like...   \n",
       "757   ['baroque wig two times every year zamp sends'...   \n",
       "975                                                  []   \n",
       "1317  ['logic human human human human43embed', 'huma...   \n",
       "1635                                                 []   \n",
       "871                                                  []   \n",
       "770                                                  []   \n",
       "259   ['kept us fed taught us', 'sunday mornings rol...   \n",
       "857                                                  []   \n",
       "13                                                   []   \n",
       "\n",
       "                                       spotify_metadata  \\\n",
       "419   {'energy': 0.564, 'acousticness': 0.0452, 'dan...   \n",
       "757   {'energy': 0.137, 'acousticness': 0.99, 'dance...   \n",
       "975   {'energy': 0.384, 'acousticness': 0.741, 'danc...   \n",
       "1317  {'energy': 0.65, 'acousticness': 0.0396, 'danc...   \n",
       "1635  {'energy': 0.295, 'acousticness': 0.854, 'danc...   \n",
       "871   {'energy': 0.0709, 'acousticness': 0.839, 'dan...   \n",
       "770   {'energy': 0.262, 'acousticness': 0.949, 'danc...   \n",
       "259   {'energy': 0.581, 'acousticness': 0.423, 'danc...   \n",
       "857   {'energy': 0.245, 'acousticness': 0.39, 'dance...   \n",
       "13    {'energy': 0.928, 'acousticness': 0.0068, 'dan...   \n",
       "\n",
       "                         topics  \\\n",
       "419    love like know say wanna   \n",
       "757            sex da la che de   \n",
       "975    love like know say wanna   \n",
       "1317     get got call face back   \n",
       "1635   love like know say wanna   \n",
       "871    love like know say wanna   \n",
       "770    love like know say wanna   \n",
       "259   little one day fire every   \n",
       "857    love like know say wanna   \n",
       "13     love like know say wanna   \n",
       "\n",
       "                                                 prompt  \n",
       "419   All Saints's song 'Under the Bridge' has a pos...  \n",
       "757   Bach Johann Sebastian's song 'Fugue in G' has ...  \n",
       "975   Battisti's song 'Il vento' has a neutral tone ...  \n",
       "1317  Bjork's song 'Human Behaviour' has a positive ...  \n",
       "1635  Brassens Georges's song 'Je rejoindrai ma bell...  \n",
       "871   Barry John's song 'Main Title Looks Like a Sui...  \n",
       "770   Bach Johann Sebastian's song 'Musette BWV Anh....  \n",
       "259   Alabama's song 'High Cotton' has a positive to...  \n",
       "857   Barbra Streisand's song 'What Kind of Fool' ha...  \n",
       "13    2 Brothers on the 4th Floor's song 'Come Take ...  "
      ]
     },
     "execution_count": 4,
     "metadata": {},
     "output_type": "execute_result"
    }
   ],
   "source": [
    "df"
   ]
  },
  {
   "cell_type": "code",
   "execution_count": 3,
   "metadata": {},
   "outputs": [
    {
     "data": {
      "text/plain": [
       "'NVIDIA GeForce RTX 4070'"
      ]
     },
     "execution_count": 3,
     "metadata": {},
     "output_type": "execute_result"
    }
   ],
   "source": [
    "# Check if CUDA is available and set the device accordingly\n",
    "device = 'cuda' if torch.cuda.is_available() else 'cpu'\n",
    "torch.cuda.get_device_name(0)"
   ]
  },
  {
   "cell_type": "code",
   "execution_count": 4,
   "metadata": {},
   "outputs": [],
   "source": [
    "torch.cuda.empty_cache()"
   ]
  },
  {
   "cell_type": "code",
   "execution_count": 5,
   "metadata": {},
   "outputs": [],
   "source": [
    "# Initialize the model and tokenizer\n",
    "tokenizer = AutoTokenizer.from_pretrained(\"facebook/musicgen-medium\")"
   ]
  },
  {
   "cell_type": "code",
   "execution_count": 6,
   "metadata": {},
   "outputs": [
    {
     "name": "stderr",
     "output_type": "stream",
     "text": [
      "/home/varadh/anaconda3/envs/ac/lib/python3.9/site-packages/torch/nn/utils/weight_norm.py:30: UserWarning: torch.nn.utils.weight_norm is deprecated in favor of torch.nn.utils.parametrizations.weight_norm.\n",
      "  warnings.warn(\"torch.nn.utils.weight_norm is deprecated in favor of torch.nn.utils.parametrizations.weight_norm.\")\n"
     ]
    },
    {
     "ename": "",
     "evalue": "",
     "output_type": "error",
     "traceback": [
      "\u001b[1;31mThe Kernel crashed while executing code in the the current cell or a previous cell. Please review the code in the cell(s) to identify a possible cause of the failure. Click <a href='https://aka.ms/vscodeJupyterKernelCrash'>here</a> for more info. View Jupyter <a href='command:jupyter.viewOutput'>log</a> for further details."
     ]
    }
   ],
   "source": [
    "model = AutoModelForTextToWaveform.from_pretrained(\"facebook/musicgen-medium\")"
   ]
  },
  {
   "cell_type": "code",
   "execution_count": null,
   "metadata": {},
   "outputs": [],
   "source": [
    "# Move the model to the GPU if available\n",
    "model.to(device)"
   ]
  },
  {
   "cell_type": "code",
   "execution_count": null,
   "metadata": {},
   "outputs": [],
   "source": [
    "# Process each prompt and generate WAV files\n",
    "file_paths = []\n",
    "for i, prompt in enumerate(prompts):\n",
    "    inputs = tokenizer(prompt, return_tensors=\"pt\").to(device)\n",
    "    with torch.no_grad():\n",
    "        waveform = model.generate(**inputs)\n",
    "\n",
    "    # Move the waveform back to CPU and convert to numpy array\n",
    "    waveform_np = waveform.squeeze().detach().cpu().numpy()\n",
    "\n",
    "    # Save the waveform as a WAV file\n",
    "    file_name = f\"./medium_model/output_{i}.wav\"\n",
    "    sf.write(file_name, waveform_np, 44100)\n",
    "    file_paths.append(file_name)\n"
   ]
  },
  {
   "cell_type": "code",
   "execution_count": null,
   "metadata": {},
   "outputs": [],
   "source": [
    "# Save the file paths to a CSV file\n",
    "output_df = pd.DataFrame({'prompt': prompts, 'wav_file': file_paths})\n",
    "output_df.to_csv('./medium_model/output_with_wav.csv', index=False)"
   ]
  }
 ],
 "metadata": {
  "kernelspec": {
   "display_name": "ac",
   "language": "python",
   "name": "python3"
  },
  "language_info": {
   "codemirror_mode": {
    "name": "ipython",
    "version": 3
   },
   "file_extension": ".py",
   "mimetype": "text/x-python",
   "name": "python",
   "nbconvert_exporter": "python",
   "pygments_lexer": "ipython3",
   "version": "3.9.18"
  }
 },
 "nbformat": 4,
 "nbformat_minor": 2
}
