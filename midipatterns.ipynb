{
 "cells": [
  {
   "cell_type": "code",
   "execution_count": null,
   "metadata": {},
   "outputs": [],
   "source": [
    "%pip install music21 matplotlib"
   ]
  },
  {
   "cell_type": "code",
   "execution_count": null,
   "metadata": {},
   "outputs": [],
   "source": [
    "import matplotlib.pyplot as plt"
   ]
  },
  {
   "cell_type": "code",
   "execution_count": null,
   "metadata": {},
   "outputs": [],
   "source": [
    "from music21 import converter\n",
    "\n",
    "\n",
    "# Load your MIDI file\n",
    "midi_path = 'archive\\.38 Special\\Caught Up In You.mid'\n",
    "midi_data = converter.parse(midi_path)\n",
    "\n"
   ]
  },
  {
   "cell_type": "code",
   "execution_count": null,
   "metadata": {},
   "outputs": [],
   "source": [
    "from music21 import converter, note, chord\n",
    "\n",
    "def get_notes_and_durations(file_path):\n",
    "    midi_data = converter.parse(file_path)\n",
    "    elements = midi_data.recurse().notesAndRests  # Get notes and chords\n",
    "\n",
    "    note_data = []\n",
    "    for element in elements:\n",
    "        if isinstance(element, note.Note):\n",
    "            note_data.append((element.pitch.midi, element.offset, element.duration.quarterLength))\n",
    "        elif isinstance(element, chord.Chord):\n",
    "            for pitch in element.pitches:\n",
    "                note_data.append((pitch.midi, element.offset, element.duration.quarterLength))\n",
    "\n",
    "    return note_data"
   ]
  },
  {
   "cell_type": "code",
   "execution_count": null,
   "metadata": {},
   "outputs": [],
   "source": [
    "note_data = get_notes_and_durations(midi_path)\n",
    "\n",
    "import matplotlib.pyplot as plt\n",
    "import numpy as np\n",
    "\n",
    "def plot_piano_roll(note_data, start_time=0, end_time=None, min_pitch=21, max_pitch=108):\n",
    "    fig, ax = plt.subplots(figsize=(15, 8))\n",
    "\n",
    "    # Filtering notes within the specified time and pitch range\n",
    "    note_data = [note for note in note_data if start_time <= note[1] <= end_time] if end_time else note_data\n",
    "    note_data = [note for note in note_data if min_pitch <= note[0] <= max_pitch]\n",
    "\n",
    "    for note in note_data:\n",
    "        pitch, start, duration = note\n",
    "        ax.barh(pitch, duration, left=start, height=1, edgecolor='black')\n",
    "\n",
    "    ax.set_yticks(np.arange(min_pitch, max_pitch + 1, 1))\n",
    "    ax.set_yticklabels([str(p) for p in range(min_pitch, max_pitch + 1, 1)])\n",
    "    ax.invert_yaxis()  # Invert y-axis to have low pitches at the bottom\n",
    "    ax.set_xlabel('Time (Quarter Length)')\n",
    "    ax.set_ylabel('Pitch (MIDI Number)')\n",
    "    ax.set_title('Piano Roll')\n",
    "\n",
    "    plt.show()\n",
    "\n",
    "plot_piano_roll(note_data, start_time=0, end_time=100)  # Adjust 'end_time' as needed\n"
   ]
  },
  {
   "cell_type": "code",
   "execution_count": null,
   "metadata": {},
   "outputs": [],
   "source": [
    "instruments = midi_data.recurse().getElementsByClass('Instrument')\n",
    "\n",
    "for i, instrument in enumerate(instruments):\n",
    "    print(f\"Track {i}: {instrument.instrumentName}\")"
   ]
  },
  {
   "cell_type": "code",
   "execution_count": null,
   "metadata": {},
   "outputs": [],
   "source": [
    "chords = midi_data.chordify()\n",
    "chord_names = [c.pitchedCommonName for c in chords.recurse().getElementsByClass('Chord')]\n",
    "chord_names"
   ]
  },
  {
   "cell_type": "code",
   "execution_count": null,
   "metadata": {},
   "outputs": [],
   "source": [
    "tempos = midi_data.metronomeMarkBoundaries()\n",
    "tempo_times = [tempo[0] for tempo in tempos]\n",
    "tempo_values = [tempo[2].number for tempo in tempos]\n",
    "\n",
    "plt.figure(figsize=(10, 4))\n",
    "plt.plot(tempo_times, tempo_values, label='Tempo', color='blue')\n",
    "plt.xlabel('Time (s)')\n",
    "plt.ylabel('Tempo (BPM)')\n",
    "plt.title('Tempo Changes Over Time')\n",
    "plt.legend()\n",
    "plt.show()\n"
   ]
  },
  {
   "cell_type": "code",
   "execution_count": null,
   "metadata": {},
   "outputs": [],
   "source": [
    "time_signatures = midi_data.recurse().getElementsByClass('TimeSignature')\n",
    "for ts in time_signatures:\n",
    "    print(ts.ratioString)\n"
   ]
  }
 ],
 "metadata": {
  "language_info": {
   "name": "python"
  }
 },
 "nbformat": 4,
 "nbformat_minor": 2
}
